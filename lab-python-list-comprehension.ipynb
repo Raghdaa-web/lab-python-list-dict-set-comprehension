{
 "cells": [
  {
   "cell_type": "markdown",
   "id": "25d7736c-ba17-4aff-b6bb-66eba20fbf4e",
   "metadata": {},
   "source": [
    "# Lab | List, Dict and Set Comprehension"
   ]
  },
  {
   "cell_type": "markdown",
   "id": "7dd3cbde-675a-4b81-92c3-f728846dbe06",
   "metadata": {},
   "source": [
    "## Exercise: Managing Customer Orders Optimized with Comprehension"
   ]
  },
  {
   "cell_type": "markdown",
   "id": "5d500160-2fb7-4777-b5e4-09d45ebaf328",
   "metadata": {},
   "source": [
    "In the previous exercise, you developed a program to manage customer orders and inventory. Now, let's take it a step further and incorporate comprehension into your code.\n",
    "\n",
    "Follow the steps below to complete the exercise:\n",
    "\n",
    "1. Review your code from the previous exercise and identify areas where you can apply comprehension to simplify and streamline your code. \n",
    "\n",
    "    - *Hint: Apply it to initialize inventory, updating the inventory and printing the updated inventory.*\n",
    "    \n",
    "    - For example, in initializing the inventory, we could have:\n",
    "    \n",
    "        ```python\n",
    "        def initialize_inventory(products):\n",
    "            inventory = {product: int(input(f\"Enter the quantity of {product}s available: \")) for product in products}\n",
    "            return inventory\n",
    "\n",
    "        ```\n",
    "<br>\n",
    "    \n",
    "\n",
    "    \n",
    "2. Modify the function get_customer_orders so it prompts the user to enter the number of customer orders and gathers the product names using a loop and user input. Use comprehension.\n",
    "\n",
    "3. Add a new function to calculate the total price of the customer order. For each product in customer_orders, prompt the user to enter the price of that product. Use comprehension to calculate the total price. Note: assume that the user can only have 1 unit of each product.\n",
    "\n",
    "4. Modify the update_inventory function to remove the product from the inventory if its quantity becomes zero after fulfilling the customer orders. Use comprehension to filter out the products with a quantity of zero from the inventory.\n",
    "\n",
    "5. Print the total price of the customer order.\n",
    "\n",
    "Your code should produce output similar to the following:\n",
    "\n",
    "```python\n",
    "Enter the quantity of t-shirts available:  5\n",
    "Enter the quantity of mugs available:  4\n",
    "Enter the quantity of hats available:  3\n",
    "Enter the quantity of books available:  2\n",
    "Enter the quantity of keychains available:  1\n",
    "Enter the number of customer orders:  2\n",
    "Enter the name of a product that a customer wants to order:  hat\n",
    "Enter the name of a product that a customer wants to order:  keychain\n",
    "\n",
    "Order Statistics:\n",
    "Total Products Ordered: 2\n",
    "Percentage of Unique Products Ordered: 40.0\n",
    "\n",
    "Updated Inventory:\n",
    "t-shirt: 5\n",
    "mug: 4\n",
    "hat: 2\n",
    "book: 2\n",
    "Enter the price of keychain:  5\n",
    "Enter the price of hat:  10\n",
    "Total Price: 15.0\n",
    "\n",
    "```\n"
   ]
  },
  {
   "cell_type": "code",
   "execution_count": 3,
   "id": "d71418b0",
   "metadata": {},
   "outputs": [],
   "source": [
    "def initialize_inventory(products):\n",
    "    inventory = {product: int(input(f\"Enter the quantity of {product}: \")) for product in products}\n",
    "    return inventory"
   ]
  },
  {
   "cell_type": "code",
   "execution_count": 4,
   "id": "6e45398c",
   "metadata": {},
   "outputs": [],
   "source": [
    "# list of products\n",
    "product_list = [\"book\", \"hat\", \"key-chain\"]"
   ]
  },
  {
   "cell_type": "code",
   "execution_count": 5,
   "id": "de81a35f",
   "metadata": {},
   "outputs": [],
   "source": [
    "# Call the function to initialize the inventory dictionary\n",
    "inventory_dict = initialize_inventory(product_list)"
   ]
  },
  {
   "cell_type": "code",
   "execution_count": 6,
   "id": "1a6569da",
   "metadata": {},
   "outputs": [
    {
     "name": "stdout",
     "output_type": "stream",
     "text": [
      "Initialized Inventory: {'book': 3, 'hat': 4, 'key-chain': 5}\n"
     ]
    }
   ],
   "source": [
    "# Print the result of inventory dictionary\n",
    "print(\"Initialized Inventory:\", inventory_dict)\n"
   ]
  },
  {
   "cell_type": "code",
   "execution_count": 7,
   "id": "b88d3b76",
   "metadata": {},
   "outputs": [],
   "source": [
    "def get_customer_orders():\n",
    "    num_orders = int(input(\"Enter the number of customer orders: \"))\n",
    "    orders = [input(f\"Enter product name for order {i+1}: \") for i in range(num_orders)]\n",
    "    return orders"
   ]
  },
  {
   "cell_type": "code",
   "execution_count": 10,
   "id": "7b0534b0",
   "metadata": {},
   "outputs": [],
   "source": [
    "# Call the function to get customer orders\n",
    "orders = get_customer_orders()\n"
   ]
  },
  {
   "cell_type": "code",
   "execution_count": 11,
   "id": "7816a58d",
   "metadata": {},
   "outputs": [],
   "source": [
    "def calculate_total_price(customer_orders):\n",
    "    prices = {product: float(input(f\"Enter the price for {product}: \")) for product in customer_orders}\n",
    "    total_price = sum(prices[product] for product in customer_orders)\n",
    "    return total_price\n"
   ]
  },
  {
   "cell_type": "code",
   "execution_count": 12,
   "id": "7d022257",
   "metadata": {},
   "outputs": [
    {
     "name": "stdout",
     "output_type": "stream",
     "text": [
      "Total price for the customer orders: €10.00\n"
     ]
    }
   ],
   "source": [
    "# Print the total price\n",
    "customer_orders = [\"book\", \"key-chain\", \"hat\"]\n",
    "total_price = calculate_total_price(customer_orders)\n",
    "print(f\"Total price for the customer orders: €{total_price:.2f}\")\n"
   ]
  },
  {
   "cell_type": "code",
   "execution_count": 20,
   "id": "b5f47276",
   "metadata": {},
   "outputs": [
    {
     "ename": "NameError",
     "evalue": "name 'inventory' is not defined",
     "output_type": "error",
     "traceback": [
      "\u001b[0;31m---------------------------------------------------------------------------\u001b[0m",
      "\u001b[0;31mNameError\u001b[0m                                 Traceback (most recent call last)",
      "\u001b[1;32m/Users/raghdaaibrahim/Documents/Ironhack August/lab-git-main/your-code/lab-python-list-dict-set-comprehension/lab-python-list-comprehension.ipynb Cell 12\u001b[0m line \u001b[0;36m9\n\u001b[1;32m      <a href='vscode-notebook-cell:/Users/raghdaaibrahim/Documents/Ironhack%20August/lab-git-main/your-code/lab-python-list-dict-set-comprehension/lab-python-list-comprehension.ipynb#X14sZmlsZQ%3D%3D?line=5'>6</a>\u001b[0m     inventory \u001b[39m=\u001b[39m {product: quantity \u001b[39mfor\u001b[39;00m product, quantity \u001b[39min\u001b[39;00m inventory\u001b[39m.\u001b[39mitems() \u001b[39mif\u001b[39;00m quantity \u001b[39m>\u001b[39m \u001b[39m0\u001b[39m}\n\u001b[1;32m      <a href='vscode-notebook-cell:/Users/raghdaaibrahim/Documents/Ironhack%20August/lab-git-main/your-code/lab-python-list-dict-set-comprehension/lab-python-list-comprehension.ipynb#X14sZmlsZQ%3D%3D?line=6'>7</a>\u001b[0m     \u001b[39mreturn\u001b[39;00m inventory\n\u001b[0;32m----> <a href='vscode-notebook-cell:/Users/raghdaaibrahim/Documents/Ironhack%20August/lab-git-main/your-code/lab-python-list-dict-set-comprehension/lab-python-list-comprehension.ipynb#X14sZmlsZQ%3D%3D?line=8'>9</a>\u001b[0m \u001b[39mprint\u001b[39m( update_inventory (inventory, customer_orders)) \n",
      "\u001b[0;31mNameError\u001b[0m: name 'inventory' is not defined"
     ]
    }
   ],
   "source": [
    "def update_inventory (inventory, customer_orders):\n",
    "    for product in customer_orders:\n",
    "        if product in inventory:\n",
    "            inventory[product] -= 1\n",
    "\n",
    "    inventory = {product: quantity for product, quantity in inventory.items() if quantity > 0}\n",
    "    return inventory\n",
    "\n",
    "print(update_inventory (inventory, customer_orders)) \n",
    "\n"
   ]
  },
  {
   "cell_type": "code",
   "execution_count": 18,
   "id": "a3876f23",
   "metadata": {},
   "outputs": [
    {
     "ename": "NameError",
     "evalue": "name 'inventory' is not defined",
     "output_type": "error",
     "traceback": [
      "\u001b[0;31m---------------------------------------------------------------------------\u001b[0m",
      "\u001b[0;31mNameError\u001b[0m                                 Traceback (most recent call last)",
      "\u001b[1;32m/Users/raghdaaibrahim/Documents/Ironhack August/lab-git-main/your-code/lab-python-list-dict-set-comprehension/lab-python-list-comprehension.ipynb Cell 13\u001b[0m line \u001b[0;36m1\n\u001b[0;32m----> <a href='vscode-notebook-cell:/Users/raghdaaibrahim/Documents/Ironhack%20August/lab-git-main/your-code/lab-python-list-dict-set-comprehension/lab-python-list-comprehension.ipynb#X15sZmlsZQ%3D%3D?line=0'>1</a>\u001b[0m updated_inventory \u001b[39m=\u001b[39m update_inventory(inventory, customer_orders)\n",
      "\u001b[0;31mNameError\u001b[0m: name 'inventory' is not defined"
     ]
    }
   ],
   "source": []
  },
  {
   "cell_type": "code",
   "execution_count": 21,
   "id": "11330d9b",
   "metadata": {},
   "outputs": [
    {
     "name": "stdout",
     "output_type": "stream",
     "text": [
      "<function update_inventory at 0x105461ee0>\n"
     ]
    }
   ],
   "source": [
    "print(\"Updated Inventory:\", update_inventory)"
   ]
  },
  {
   "cell_type": "code",
   "execution_count": 19,
   "id": "471d6e1e",
   "metadata": {},
   "outputs": [
    {
     "name": "stdout",
     "output_type": "stream",
     "text": [
      "Total price for the customer order: €11.00\n"
     ]
    }
   ],
   "source": [
    "customer_orders = [\"book\", \"hat\", \"key-chain\"]\n",
    "\n",
    "total_price = calculate_total_price(customer_orders)\n",
    "print(f\"Total price for the customer order: €{total_price:.2f}\")"
   ]
  }
 ],
 "metadata": {
  "kernelspec": {
   "display_name": "Python 3 (ipykernel)",
   "language": "python",
   "name": "python3"
  },
  "language_info": {
   "codemirror_mode": {
    "name": "ipython",
    "version": 3
   },
   "file_extension": ".py",
   "mimetype": "text/x-python",
   "name": "python",
   "nbconvert_exporter": "python",
   "pygments_lexer": "ipython3",
   "version": "3.11.5"
  }
 },
 "nbformat": 4,
 "nbformat_minor": 5
}
